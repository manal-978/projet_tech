{
 "cells": [
  {
   "cell_type": "code",
   "execution_count": 1,
   "metadata": {},
   "outputs": [],
   "source": [
    "#Score est nombre de clauses non satisfaites\n",
    "def evaluate_score(solution, clauses):\n",
    "    # Initialiser le score à 0\n",
    "    score = 0\n",
    "    # Parcourir chaque clause de la liste\n",
    "    for clause in clauses: \n",
    "        clause_satisfied = False\n",
    "        for i in clause:\n",
    "            if i > 0: # variable vraie \n",
    "                if solution[i - 1] == 1: \n",
    "                    clause_satisfied = True\n",
    "                    break\n",
    "            elif i < 0: # variable fausse\n",
    "                if solution[-i - 1] == 0:\n",
    "                    clause_satisfied = True\n",
    "                    break\n",
    "        #nombre de clauses non satisfaites \n",
    "        if not clause_satisfied:\n",
    "            score += 1\n",
    "    return score"
   ]
  },
  {
   "cell_type": "code",
   "execution_count": 2,
   "metadata": {},
   "outputs": [],
   "source": [
    "def one_flip(solution, index):\n",
    "    new_solution = solution.copy()\n",
    "    new_solution[index] = 1 - new_solution[index]\n",
    "    return new_solution"
   ]
  },
  {
   "cell_type": "code",
   "execution_count": 3,
   "metadata": {},
   "outputs": [
    {
     "name": "stdout",
     "output_type": "stream",
     "text": [
      "Score de la solution initiale : 2\n"
     ]
    }
   ],
   "source": [
    "# Solution possible \n",
    "solution = [1, 1, 0]\n",
    "# Variables\n",
    "A = 1\n",
    "B = 2\n",
    "C = 3\n",
    "# Liste de clauses\n",
    "clauses = [[A,B], [-A,-B], [A,-C], [-A,C]]\n",
    "\n",
    "# Evalue le score de la solution initiale\n",
    "score = evaluate_score(solution, clauses)\n",
    "print(f\"Score de la solution initiale : {score}\")"
   ]
  },
  {
   "cell_type": "code",
   "execution_count": 49,
   "metadata": {},
   "outputs": [],
   "source": [
    "def count_distinct_elements(lists):\n",
    "    flat_list = [abs(item) for sublist in lists for item in sublist]\n",
    "    return len(set(flat_list))"
   ]
  },
  {
   "cell_type": "code",
   "execution_count": 50,
   "metadata": {},
   "outputs": [],
   "source": [
    "N=count_distinct_elements(clauses)"
   ]
  },
  {
   "cell_type": "code",
   "execution_count": 4,
   "metadata": {},
   "outputs": [
    {
     "name": "stdout",
     "output_type": "stream",
     "text": [
      "Nouvelle solution : [1, 0, 0]\n",
      "Score du nouveau voisin : 1\n"
     ]
    }
   ],
   "source": [
    "# Génère un voisin de la solution par 1-flip\n",
    "new_solution = one_flip(solution, 1)\n",
    "print(f\"Nouvelle solution : {new_solution}\")\n",
    "\n",
    "# Evalue le score du nouveau voisin\n",
    "new_score = evaluate_score(new_solution, clauses)\n",
    "print(f\"Score du nouveau voisin : {new_score}\")"
   ]
  },
  {
   "cell_type": "code",
   "execution_count": 36,
   "metadata": {},
   "outputs": [],
   "source": [
    "def evaluate_score_1flip_FF(solution, clauses):\n",
    "    # Évaluation du score de la solution initiale\n",
    "    score = evaluate_score(solution, clauses)\n",
    "\n",
    "    # Recherche du voisin qui a le meilleur score\n",
    "    best_score = score\n",
    "    best_solution = solution\n",
    "    for i in range(len(solution)):\n",
    "        # Création du voisin en modifiant la i-ème valeur de la solution\n",
    "        neighbor = one_flip(best_solution, i)\n",
    "\n",
    "        # Évaluation du score du voisin\n",
    "        neighbor_score = evaluate_score(neighbor, clauses)\n",
    "\n",
    "        # Mise à jour du meilleur score et de la meilleure solution si le voisin a un meilleur score\n",
    "        if neighbor_score < best_score:\n",
    "            best_score = neighbor_score\n",
    "            best_solution = neighbor\n",
    "            # Renvoi du meilleur\n",
    "            return best_score,best_solution\n",
    "    return best_score,best_solution\n"
   ]
  },
  {
   "cell_type": "code",
   "execution_count": 52,
   "metadata": {},
   "outputs": [
    {
     "data": {
      "text/plain": [
       "(0, [0, 1, 0])"
      ]
     },
     "execution_count": 52,
     "metadata": {},
     "output_type": "execute_result"
    }
   ],
   "source": [
    "import random\n",
    "# Génération de la solution initiale aléatoire\n",
    "initial_solution = [random.randint(0, 1) for i in range(N)] # 3 est le nombre de variables\n",
    "evaluate_score_1flip_FF(initial_solution,clauses)"
   ]
  },
  {
   "cell_type": "code",
   "execution_count": 8,
   "metadata": {},
   "outputs": [],
   "source": [
    "def evaluate_score_1flip_BB(solution, clauses):\n",
    "    # Évaluation du score de la solution initiale\n",
    "    score = evaluate_score(solution, clauses)\n",
    "\n",
    "    # Recherche du voisin qui a le meilleur score\n",
    "    best_score = score\n",
    "    best_solution = solution\n",
    "    for i in range(len(solution)):\n",
    "        # Création du voisin en modifiant la i-ème valeur de la solution\n",
    "        neighbor = one_flip(best_solution, i)\n",
    "\n",
    "        # Évaluation du score du voisin\n",
    "        neighbor_score = evaluate_score(neighbor, clauses)\n",
    "\n",
    "        # Mise à jour du meilleur score et de la meilleure solution si le voisin a un meilleur score\n",
    "        if neighbor_score < best_score:\n",
    "            best_score = neighbor_score\n",
    "            best_solution = neighbor\n",
    "\n",
    "    # Si le meilleur score est inférieur au score de la solution initiale, renvoi du meilleur voisin trouvé\n",
    "    if best_score < score:\n",
    "        return best_score,best_solution\n",
    "    # Sinon, renvoi de la solution initiale\n",
    "    \n",
    "    else:\n",
    "        return score,solution"
   ]
  },
  {
   "cell_type": "code",
   "execution_count": 53,
   "metadata": {},
   "outputs": [
    {
     "data": {
      "text/plain": [
       "(0, [0, 1, 0])"
      ]
     },
     "execution_count": 53,
     "metadata": {},
     "output_type": "execute_result"
    }
   ],
   "source": [
    "import random\n",
    "# Génération de la solution initiale aléatoire\n",
    "initial_solution = [random.randint(0, 1) for i in range(N)] # 3 est le nombre de variables\n",
    "evaluate_score_1flip_BB(initial_solution,clauses)"
   ]
  },
  {
   "cell_type": "code",
   "execution_count": 11,
   "metadata": {},
   "outputs": [],
   "source": [
    "def evaluate_score_1flip_WW(solution, clauses):\n",
    "    # Évaluation du score de la solution initiale\n",
    "    score = evaluate_score(solution, clauses)\n",
    "\n",
    "    # Recherche du voisin qui a le pire score\n",
    "    worst_score = score\n",
    "    worst_solution = solution\n",
    "    for i in range(len(solution)):\n",
    "        # Création du voisin en modifiant la i-ème valeur \n",
    "        #de la solution\n",
    "        neighbor = one_flip(worst_solution, i)\n",
    "      \n",
    "\n",
    "        # Évaluation du score du voisin\n",
    "        neighbor_score = evaluate_score(neighbor, clauses)\n",
    "\n",
    "        # Mise à jour du pire score et de la pire solution\n",
    "        #si le voisin a un pire score\n",
    "        if neighbor_score > worst_score:\n",
    "            worst_score = neighbor_score\n",
    "            worst_solution = neighbor\n",
    "\n",
    "    # Si le pire score est supérieur au score de la solution initiale, \n",
    "    #renvoi du pire voisin trouvé\n",
    "    if worst_score > score:\n",
    "        return worst_score,worst_solution\n",
    "    # Sinon, renvoi de la solution initiale\n",
    "    else:\n",
    "        return score,solution"
   ]
  },
  {
   "cell_type": "code",
   "execution_count": 54,
   "metadata": {},
   "outputs": [
    {
     "name": "stdout",
     "output_type": "stream",
     "text": [
      "(2, [1, 1, 0])\n"
     ]
    }
   ],
   "source": [
    "import random\n",
    "# Génération de la solution initiale aléatoire\n",
    "initial_solution = [random.randint(0, 1) for i in range(N)] # 3 est le nombre de variables\n",
    "print(evaluate_score_1flip_WW(initial_solution,clauses))"
   ]
  },
  {
   "cell_type": "code",
   "execution_count": 40,
   "metadata": {},
   "outputs": [],
   "source": [
    "def evaluate_score_1flip_WW_appro(solution, clauses,k):\n",
    "    # Évaluation du score de la solution initiale\n",
    "    score = evaluate_score(solution, clauses)\n",
    "\n",
    "    # Recherche du voisin qui a le pire score\n",
    "    worst_score = score\n",
    "    worst_solution = solution\n",
    "    for i in range(len(solution)):\n",
    "        for j in range(k):\n",
    "            # Création du voisin en modifiant la i-ème valeur \n",
    "            #de la solution\n",
    "            neighbor = one_flip(worst_solution, i)\n",
    "\n",
    "            # Évaluation du score du voisin\n",
    "            neighbor_score = evaluate_score(neighbor, clauses)\n",
    "\n",
    "            # Mise à jour du pire score et de la pire solution\n",
    "            #si le voisin a un pire score\n",
    "            if neighbor_score > worst_score:\n",
    "                worst_score = neighbor_score\n",
    "                worst_solution = neighbor\n",
    "\n",
    "    # Si le pire score est supérieur au score de la solution initiale, \n",
    "    #renvoi du pire voisin trouvé\n",
    "    if worst_score > score:\n",
    "        return worst_score,worst_solution\n",
    "    # Sinon, renvoi de la solution initiale\n",
    "    else:\n",
    "        return score,solution"
   ]
  },
  {
   "cell_type": "code",
   "execution_count": 55,
   "metadata": {},
   "outputs": [
    {
     "name": "stdout",
     "output_type": "stream",
     "text": [
      "(2, [1, 1, 0])\n"
     ]
    }
   ],
   "source": [
    "import random\n",
    "# Génération de la solution initiale aléatoire\n",
    "initial_solution = [random.randint(0, 1) for i in range(N)] # 3 est le nombre de variables\n",
    "print(evaluate_score_1flip_WW_appro(initial_solution,clauses,2))"
   ]
  },
  {
   "cell_type": "code",
   "execution_count": 44,
   "metadata": {},
   "outputs": [],
   "source": [
    "def evaluate_score_MaxExp(solution, clauses):\n",
    "    # Initialisation du score d'expansion (e) à 0\n",
    "    e = 0\n",
    "    # Mise à jour de la solution courante avec le meilleur voisin trouvé\n",
    "    best_solution = solution\n",
    "    best_score = score\n",
    "    for i in range(len(solution)):\n",
    "         # Création du voisin en modifiant la i-ème valeur de la solution\n",
    "        neighbor = one_flip(best_solution, i)\n",
    "\n",
    "        # Évaluation du score du voisin\n",
    "        neighbor_score = evaluate_score(neighbor, clauses)\n",
    "        # Calcul du score d'expansion (e)\n",
    "        e_score = neighbor_score - score\n",
    "\n",
    "        # Mise à jour de la solution courante si le voisin a un meilleur \n",
    "        #score d'expansion (e)\n",
    "        if e_score < e:\n",
    "            best_solution = neighbor\n",
    "            best_score = neighbor_score\n",
    "            e = e_score\n",
    "    # Renvoi de la solution optimale\n",
    "    return best_score,best_solution\n",
    "        "
   ]
  },
  {
   "cell_type": "code",
   "execution_count": 56,
   "metadata": {},
   "outputs": [
    {
     "name": "stdout",
     "output_type": "stream",
     "text": [
      "(0, [0, 1, 0])\n"
     ]
    }
   ],
   "source": [
    "import random\n",
    "# Génération de la solution initiale aléatoire\n",
    "initial_solution = [random.randint(0, 1) for i in range(N)] # 3 est le nombre de variables\n",
    "print(evaluate_score_MaxExp(initial_solution,clauses))"
   ]
  },
  {
   "cell_type": "code",
   "execution_count": null,
   "metadata": {},
   "outputs": [],
   "source": []
  },
  {
   "cell_type": "code",
   "execution_count": null,
   "metadata": {},
   "outputs": [],
   "source": []
  },
  {
   "cell_type": "code",
   "execution_count": null,
   "metadata": {},
   "outputs": [],
   "source": []
  }
 ],
 "metadata": {
  "kernelspec": {
   "display_name": "Python 3",
   "language": "python",
   "name": "python3"
  },
  "language_info": {
   "codemirror_mode": {
    "name": "ipython",
    "version": 3
   },
   "file_extension": ".py",
   "mimetype": "text/x-python",
   "name": "python",
   "nbconvert_exporter": "python",
   "pygments_lexer": "ipython3",
   "version": "3.8.5"
  }
 },
 "nbformat": 4,
 "nbformat_minor": 4
}
