{
  "nbformat": 4,
  "nbformat_minor": 0,
  "metadata": {
    "colab": {
      "provenance": []
    },
    "kernelspec": {
      "name": "python3",
      "display_name": "Python 3"
    },
    "language_info": {
      "name": "python"
    }
  },
  "cells": [
    {
      "cell_type": "markdown",
      "source": [
        "# **La fonction evaluate score**"
      ],
      "metadata": {
        "id": "JdPZwWpAwcsN"
      }
    },
    {
      "cell_type": "code",
      "execution_count": null,
      "metadata": {
        "id": "QojwbtMaNyuI"
      },
      "outputs": [],
      "source": [
        "#Score est nombre de clauses non satisfaites\n",
        "def evaluate_score(solution, clauses):\n",
        "    # Initialiser le score à 0\n",
        "    score = 0\n",
        "    # Parcourir chaque clause de la liste\n",
        "    for clause in clauses: \n",
        "        clause_satisfied = False\n",
        "        for i in clause:\n",
        "            if i > 0: # proposition true\n",
        "                if solution[i - 1] == 1: \n",
        "                    clause_satisfied = True\n",
        "                    break\n",
        "            elif i < 0: # proposition false\n",
        "                if solution[-i - 1] == 0:\n",
        "                    clause_satisfied = True\n",
        "                    break\n",
        "        #nombre de clauses non satisfaites (on minimise le score)\n",
        "        if not clause_satisfied:\n",
        "            score += 1\n",
        "    return score"
      ]
    },
    {
      "cell_type": "code",
      "source": [
        "sol1 = [0,1,1]\n",
        "A = 1\n",
        "B = 2\n",
        "C = 3\n",
        "clauses = [[A,B], [-A,-B], [A,-C], [-A,C]]\n",
        "score = evaluate_score(sol1, clauses)\n",
        "print(f\"La solution est : {sol1}\")\n",
        "print(f\"Le score de cette solution est : {score}\")\n"
      ],
      "metadata": {
        "colab": {
          "base_uri": "https://localhost:8080/"
        },
        "id": "WCPvGuz1KGZf",
        "outputId": "a2c88d7c-ccae-4199-e6df-b0fb7a0d3f37"
      },
      "execution_count": null,
      "outputs": [
        {
          "output_type": "stream",
          "name": "stdout",
          "text": [
            "La solution est : [0, 1, 1]\n",
            "Le score de cette solution est : 1\n"
          ]
        }
      ]
    },
    {
      "cell_type": "markdown",
      "source": [
        "# **La fonction One flip**"
      ],
      "metadata": {
        "id": "qQ7P7gvDwjnd"
      }
    },
    {
      "cell_type": "code",
      "source": [
        "def one_flip(solution, index):\n",
        "    new_solution = solution.copy()\n",
        "    new_solution[index] = 1 - new_solution[index]\n",
        "    return new_solution"
      ],
      "metadata": {
        "id": "ogDSsN2xN2_e"
      },
      "execution_count": null,
      "outputs": []
    },
    {
      "cell_type": "code",
      "source": [
        "print(\"-----Exemple de la fonction one flip----- \\n\")\n",
        "print(f\"La solution est : {sol1}\\n\")\n",
        "#print(\"\\n\")\n",
        "print(f\"Le score de cette solution est : {score} \\n\")\n",
        "print(f\"La position choisie est :  2 \\n\")\n",
        "new_solution = one_flip(sol1, 1)\n",
        "print(f\"Nouvelle solution : {new_solution} \\n\")\n",
        "new_score= evaluate_score(new_solution,clauses)\n",
        "print(f\"Le score de la nouvelle solution est : {new_score} \\n\")\n"
      ],
      "metadata": {
        "colab": {
          "base_uri": "https://localhost:8080/"
        },
        "id": "zMrk0T75MePg",
        "outputId": "b544daf4-7810-4cc2-a8dd-1ef01fb6b6a6"
      },
      "execution_count": null,
      "outputs": [
        {
          "output_type": "stream",
          "name": "stdout",
          "text": [
            "-----Exemple de la fonction one flip----- \n",
            "\n",
            "La solution est : [0, 1, 1]\n",
            "\n",
            "Le score de cette solution est : 1 \n",
            "\n",
            "La position choisie est :  2 \n",
            "\n",
            "Nouvelle solution : [0, 0, 1] \n",
            "\n",
            "Le score de la nouvelle solution est : 2 \n",
            "\n"
          ]
        }
      ]
    },
    {
      "cell_type": "code",
      "source": [
        "# Solution possible \n",
        "\"\"\"solution = [1, 0, 0]\n",
        "# Propositions (valeurs selon leur positions (i+1) dans le vecteur solution)\n",
        "A = 1\n",
        "B = 2\n",
        "C = 3\n",
        "# Liste de clauses\n",
        "clauses = [[A,B], [-A,-B], [A,-C], [-A,C]]\n",
        "\n",
        "# Evalue le score de la solution initiale\n",
        "score = evaluate_score(solution, clauses)\n",
        "print(f\"Score de la solution initiale : {score}\")\n",
        "\n",
        "# Génère un voisin de la solution par 1-flip\n",
        "new_solution = one_flip(solution, 1)\n",
        "print(f\"Nouvelle solution : {new_solution}\")\n",
        "\n",
        "# Evalue le score du nouveau voisin\n",
        "new_score = evaluate_score(new_solution, clauses)\n",
        "print(f\"Score du nouveau voisin : {new_score}\")\"\"\""
      ],
      "metadata": {
        "colab": {
          "base_uri": "https://localhost:8080/",
          "height": 88
        },
        "id": "kQFL39K1N6rz",
        "outputId": "b298792a-acf8-4942-898a-bc836c141bb5"
      },
      "execution_count": null,
      "outputs": [
        {
          "output_type": "execute_result",
          "data": {
            "text/plain": [
              "'solution = [1, 0, 0]\\n# Propositions (valeurs selon leur positions (i+1) dans le vecteur solution)\\nA = 1\\nB = 2\\nC = 3\\n# Liste de clauses\\nclauses = [[A,B], [-A,-B], [A,-C], [-A,C]]\\n\\n# Evalue le score de la solution initiale\\nscore = evaluate_score(solution, clauses)\\nprint(f\"Score de la solution initiale : {score}\")\\n\\n# Génère un voisin de la solution par 1-flip\\nnew_solution = one_flip(solution, 1)\\nprint(f\"Nouvelle solution : {new_solution}\")\\n\\n# Evalue le score du nouveau voisin\\nnew_score = evaluate_score(new_solution, clauses)\\nprint(f\"Score du nouveau voisin : {new_score}\")'"
            ],
            "application/vnd.google.colaboratory.intrinsic+json": {
              "type": "string"
            }
          },
          "metadata": {},
          "execution_count": 3
        }
      ]
    },
    {
      "cell_type": "code",
      "source": [
        "def ameliorant(solution,clauses):\n",
        "  score=evaluate_score(solution, clauses)\n",
        "  for i in range(len(solution)):\n",
        "    neighbor= one_flip(solution, i)\n",
        "    neighbor_score = evaluate_score(neighbor, clauses)\n",
        "    if neighbor_score < score:\n",
        "      return True\n",
        "\n",
        "  return False"
      ],
      "metadata": {
        "id": "gCyt-I6KN7Y7"
      },
      "execution_count": null,
      "outputs": []
    },
    {
      "cell_type": "code",
      "source": [
        "#premier ameliorant(first f)\n",
        "# 0 0 1 =< score 2\n",
        "sol1 = [0,1,1]\n",
        "A = 1\n",
        "B = 2\n",
        "C = 3\n",
        "clauses = [[A,B], [-A,-B], [A,-C], [-A,C]]\n",
        "score = evaluate_score(sol1, clauses)\n",
        "#print(score)\n",
        "print(\"-----Exemple de la fonction one first f----- \\n\")\n",
        "print(f\"La solution initial est : {sol1}\\n\")\n",
        "print(f\"Le score de cette solution est : {score} \\n\")\n",
        "#liste = {score : sol1}\n",
        "#print(liste)\n",
        "\n",
        "\n",
        "\n",
        "def firstf(sol1):\n",
        "  for x in range(len(sol1)):\n",
        "    new_solution = one_flip(sol1, x)\n",
        "    new_score = evaluate_score(new_solution, clauses)\n",
        "    if new_score < score:\n",
        "      return new_score,new_solution\n",
        "  \n",
        "  return score,sol1\n",
        "      \n",
        "#exemple  \n",
        "res = firstf(sol1)\n",
        "\n",
        "#print(\"\\n\")\n",
        "\n",
        "print(f\"Le premier ameliorant après application de la fonction first f : {res}\")"
      ],
      "metadata": {
        "colab": {
          "base_uri": "https://localhost:8080/"
        },
        "id": "pVp3EwgoN9kO",
        "outputId": "a6de8848-f9f1-48cd-8189-010e6e01ffe3"
      },
      "execution_count": null,
      "outputs": [
        {
          "output_type": "stream",
          "name": "stdout",
          "text": [
            "-----Exemple de la fonction one first f----- \n",
            "\n",
            "La solution initial est : [0, 1, 1]\n",
            "\n",
            "Le score de cette solution est : 1 \n",
            "\n",
            "Le premier ameliorant après application de la fonction first f : (0, [0, 1, 0])\n"
          ]
        }
      ]
    },
    {
      "cell_type": "code",
      "source": [
        "#Améliorant\n",
        "def decente_first(clauses,initial_solution):\n",
        "    solution=initial_solution\n",
        "    score= evaluate_score(solution, clauses)\n",
        "    while True:\n",
        "        score,solution = firstf(solution)\n",
        "        if score == 0:\n",
        "            break \n",
        "        if(ameliorant(solution,clauses) == False):\n",
        "            break\n",
        "  \n",
        "    return score, solution"
      ],
      "metadata": {
        "id": "gm1mszBoOBiu"
      },
      "execution_count": null,
      "outputs": []
    },
    {
      "cell_type": "code",
      "source": [
        "solution = [0, 1, 1]\n",
        "# Propositions (valeurs selon leur positions (i+1) dans le vecteur solution)\n",
        "A = 1\n",
        "B = 2\n",
        "C = 3\n",
        "# Liste de clauses\n",
        "clauses = [[A,B], [-A,-B], [A,-C], [-A,C]]\n",
        "result= decente_first(clauses,solution)\n",
        "print(result)\n",
        "#print(val2)"
      ],
      "metadata": {
        "colab": {
          "base_uri": "https://localhost:8080/"
        },
        "id": "udVUPQUsOCDk",
        "outputId": "193384ea-b850-4b28-adb8-6839ffc960e4"
      },
      "execution_count": null,
      "outputs": [
        {
          "output_type": "stream",
          "name": "stdout",
          "text": [
            "(0, [0, 1, 0])\n"
          ]
        }
      ]
    },
    {
      "cell_type": "markdown",
      "source": [
        "# **Le meilleur améliorant**"
      ],
      "metadata": {
        "id": "xygUvOJovJrf"
      }
    },
    {
      "cell_type": "code",
      "source": [
        "#meilleur ameliorant(best b)\n",
        "def bestb(solution,score):\n",
        "  print(f\"le score de la premiere solution est: {score}\")\n",
        "  for x in range(len(sol1)):\n",
        "    new_solution = one_flip(solution, x)\n",
        "    new_score = evaluate_score(new_solution, clauses)\n",
        "    if new_score < score:\n",
        "      score = new_score\n",
        "      bestsol=new_solution\n",
        "  print(f\"le score de la solution est: {new_score}\")\n",
        "  return score, bestsol\n",
        "\n",
        "#exemple\n",
        "res1 = bestb(sol1,score)\n",
        "print(f\"Le meilleur ameliorant : {res1}\")"
      ],
      "metadata": {
        "colab": {
          "base_uri": "https://localhost:8080/"
        },
        "id": "FDmvnWjivOSF",
        "outputId": "cfd0e652-6474-4f60-e1ec-5ed3d905ee63"
      },
      "execution_count": null,
      "outputs": [
        {
          "output_type": "stream",
          "name": "stdout",
          "text": [
            "le score de la premiere solution est: 1\n",
            "le score de la solution est: 0\n",
            "Le meilleur ameliorant : (0, [0, 1, 0])\n"
          ]
        }
      ]
    },
    {
      "cell_type": "code",
      "source": [
        "def decente_best(clauses,initial_solution):\n",
        "    solution=initial_solution\n",
        "    score= evaluate_score(solution, clauses)\n",
        "    while True:\n",
        "        score,solution = bestb(solution)\n",
        "        if score == 0:\n",
        "            break \n",
        "        if(ameliorant(solution,clauses) == False):\n",
        "            break\n",
        "  \n",
        "    return score, solution"
      ],
      "metadata": {
        "id": "Yor3aeIsv1dC"
      },
      "execution_count": null,
      "outputs": []
    },
    {
      "cell_type": "code",
      "source": [
        "solution = [0, 0, 1]\n",
        "# Propositions (valeurs selon leur positions (i+1) dans le vecteur solution)\n",
        "A = 1\n",
        "B = 2\n",
        "C = 3\n",
        "# Liste de clauses\n",
        "clauses = [[A,B], [-A,-B], [A,-C], [-A,C]]\n",
        "result= decente_first(clauses,solution)\n",
        "print(result)\n",
        "#print(val2)"
      ],
      "metadata": {
        "colab": {
          "base_uri": "https://localhost:8080/"
        },
        "id": "cIcZBuyGwBys",
        "outputId": "d0f55f00-9061-4ab6-e9d2-1bf3a62172bf"
      },
      "execution_count": null,
      "outputs": [
        {
          "output_type": "stream",
          "name": "stdout",
          "text": [
            "(0, [1, 0, 1])\n"
          ]
        }
      ]
    }
  ]
}