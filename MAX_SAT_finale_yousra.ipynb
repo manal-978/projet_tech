{
 "cells": [
  {
   "cell_type": "markdown",
   "metadata": {},
   "source": [
    "# Evaluate score: calcule du score"
   ]
  },
  {
   "cell_type": "code",
   "execution_count": 1,
   "metadata": {},
   "outputs": [],
   "source": [
    "#Score est nombre de clauses non satisfaites\n",
    "def evaluate_score(solution, clauses):\n",
    "    # Initialiser le score à 0\n",
    "    score = 0\n",
    "    # Parcourir chaque clause de la liste\n",
    "    for clause in clauses: \n",
    "        clause_satisfied = False\n",
    "        for i in clause:\n",
    "            if i > 0: # variable vraie \n",
    "                if solution[i - 1] == 1: \n",
    "                    clause_satisfied = True\n",
    "                    break\n",
    "            elif i < 0: # variable fausse\n",
    "                if solution[-i - 1] == 0:\n",
    "                    clause_satisfied = True\n",
    "                    break\n",
    "        #nombre de clauses non satisfaites \n",
    "        if not clause_satisfied:\n",
    "            score += 1\n",
    "    return score"
   ]
  },
  {
   "cell_type": "markdown",
   "metadata": {},
   "source": [
    "# Calcule des voisins"
   ]
  },
  {
   "cell_type": "code",
   "execution_count": 2,
   "metadata": {},
   "outputs": [],
   "source": [
    "def one_flip(solution, index):\n",
    "    new_solution = solution.copy()\n",
    "    new_solution[index] = 1 - new_solution[index]\n",
    "    return new_solution"
   ]
  },
  {
   "cell_type": "markdown",
   "metadata": {},
   "source": [
    "# Application "
   ]
  },
  {
   "cell_type": "code",
   "execution_count": 3,
   "metadata": {},
   "outputs": [
    {
     "name": "stdout",
     "output_type": "stream",
     "text": [
      "Score de la solution  : 2\n"
     ]
    }
   ],
   "source": [
    "# Solution possible \n",
    "solution = [1, 1, 0]\n",
    "# Variables\n",
    "A = 1\n",
    "B = 2\n",
    "C = 3\n",
    "# Liste de clauses\n",
    "clauses = [[A,B], [-A,-B], [A,-C], [-A,C]]\n",
    "\n",
    "# Evalue le score de la solution initiale\n",
    "score = evaluate_score(solution, clauses)\n",
    "print(f\"Score de la solution  : {score}\")"
   ]
  },
  {
   "cell_type": "code",
   "execution_count": 4,
   "metadata": {},
   "outputs": [],
   "source": [
    "def count_distinct_elements(lists):\n",
    "    flat_list = [abs(item) for sublist in lists for item in sublist]\n",
    "    return len(set(flat_list))"
   ]
  },
  {
   "cell_type": "code",
   "execution_count": 5,
   "metadata": {},
   "outputs": [],
   "source": [
    "N=count_distinct_elements(clauses)"
   ]
  },
  {
   "cell_type": "code",
   "execution_count": 6,
   "metadata": {},
   "outputs": [
    {
     "name": "stdout",
     "output_type": "stream",
     "text": [
      "Nouvelle solution : [1, 0, 0]\n",
      "Score du nouveau voisin : 1\n"
     ]
    }
   ],
   "source": [
    "# Génère un voisin de la solution par 1-flip\n",
    "new_solution = one_flip(solution, 1)\n",
    "print(f\"Nouvelle solution : {new_solution}\")\n",
    "\n",
    "# Evalue le score du nouveau voisin\n",
    "new_score = evaluate_score(new_solution, clauses)\n",
    "print(f\"Score du nouveau voisin : {new_score}\")"
   ]
  },
  {
   "cell_type": "markdown",
   "metadata": {},
   "source": [
    "# First -F"
   ]
  },
  {
   "cell_type": "markdown",
   "metadata": {},
   "source": [
    "## Algo"
   ]
  },
  {
   "cell_type": "code",
   "execution_count": 7,
   "metadata": {},
   "outputs": [],
   "source": [
    "def FF(solution, clauses):\n",
    "    # Évaluation du score de la solution initiale\n",
    "    score = evaluate_score(solution, clauses)\n",
    "    ##print(\"solution courante \",solution,\"avec un score \",score)\n",
    "    # Recherche du voisin qui a le meilleur score\n",
    "    best_score = score\n",
    "    best_solution = solution\n",
    "    for i in range(len(solution)):\n",
    "        # Création du voisin en modifiant la i-ème valeur de la solution\n",
    "        neighbor = one_flip(best_solution, i)\n",
    "\n",
    "        # Évaluation du score du voisin\n",
    "        neighbor_score = evaluate_score(neighbor, clauses)\n",
    "        ##print(\"solution voisin\",neighbor,\"avec un score \",neighbor_score)\n",
    "\n",
    "        # Mise à jour du meilleur score et de la meilleure solution si le voisin a un meilleur score\n",
    "        if neighbor_score < best_score:\n",
    "            best_score = neighbor_score\n",
    "            best_solution = neighbor\n",
    "            # Renvoi du meilleur\n",
    "            return best_score,best_solution\n",
    "    return best_score,best_solution\n"
   ]
  },
  {
   "cell_type": "markdown",
   "metadata": {},
   "source": [
    "## Application (un pas)"
   ]
  },
  {
   "cell_type": "code",
   "execution_count": 8,
   "metadata": {},
   "outputs": [
    {
     "name": "stdout",
     "output_type": "stream",
     "text": [
      "solution courante  [0, 1, 0] avec un score  0\n",
      "solution voisin [1, 1, 0] avec un score  2\n",
      "solution voisin [0, 0, 0] avec un score  1\n",
      "solution voisin [0, 1, 1] avec un score  1\n"
     ]
    },
    {
     "data": {
      "text/plain": [
       "(0, [0, 1, 0])"
      ]
     },
     "execution_count": 8,
     "metadata": {},
     "output_type": "execute_result"
    }
   ],
   "source": [
    "import random\n",
    "# Génération de la solution initiale aléatoire\n",
    "initial_solution = [random.randint(0, 1) for i in range(N)] # 3 est le nombre de variables\n",
    "FF(initial_solution,clauses)"
   ]
  },
  {
   "cell_type": "markdown",
   "metadata": {},
   "source": [
    "## Decente"
   ]
  },
  {
   "cell_type": "code",
   "execution_count": 9,
   "metadata": {},
   "outputs": [],
   "source": [
    "def ameliorant(solution,clauses):\n",
    "    score=evaluate_score(solution, clauses)\n",
    "    for i in range(len(solution)):\n",
    "        neighbor= one_flip(solution, i)\n",
    "        neighbor_score = evaluate_score(neighbor, clauses)\n",
    "        if neighbor_score < score:\n",
    "            return True\n",
    "    return False"
   ]
  },
  {
   "cell_type": "code",
   "execution_count": 10,
   "metadata": {},
   "outputs": [],
   "source": [
    "def decente_FF(clauses,initial_solution):\n",
    "    solution=initial_solution\n",
    "    # Boucle de recherche locale\n",
    "    while True:\n",
    "        # Évaluation du score de la solution courante\n",
    "        score,solution = FF(solution, clauses)\n",
    "        # Si le score est nul, la solution est optimale et la boucle est interrompue\n",
    "        if score == 0:\n",
    "            break\n",
    "        #si on a pas d'ameliorant, la boucle est interrompue\n",
    "        if(ameliorant(solution,clauses) == False):\n",
    "            break\n",
    "    # Renvoi de la solution optimale\n",
    "    return score,solution"
   ]
  },
  {
   "cell_type": "markdown",
   "metadata": {},
   "source": [
    "## Application  (decente)"
   ]
  },
  {
   "cell_type": "code",
   "execution_count": 11,
   "metadata": {},
   "outputs": [
    {
     "name": "stdout",
     "output_type": "stream",
     "text": [
      "solution courante  [0, 1, 0] avec un score  0\n",
      "solution voisin [1, 1, 0] avec un score  2\n",
      "solution voisin [0, 0, 0] avec un score  1\n",
      "solution voisin [0, 1, 1] avec un score  1\n",
      "(0, [0, 1, 0])\n"
     ]
    }
   ],
   "source": [
    "import random\n",
    "# Génération de la solution initiale aléatoire\n",
    "initial_solution =  [random.randint(0, 1) for i in range(N)]\n",
    "print (decente_FF(clauses,initial_solution))"
   ]
  },
  {
   "cell_type": "markdown",
   "metadata": {},
   "source": [
    "# Best"
   ]
  },
  {
   "cell_type": "code",
   "execution_count": 12,
   "metadata": {},
   "outputs": [],
   "source": [
    "def BB(solution, clauses):\n",
    "    # Évaluation du score de la solution initiale\n",
    "    score = evaluate_score(solution, clauses)\n",
    "    ##print(\"solution courante \",solution,\"avec un score \",score)\n",
    "    # Recherche du voisin qui a le meilleur score\n",
    "    best_score = score\n",
    "    best_solution = solution\n",
    "    for i in range(len(solution)):\n",
    "        # Création du voisin en modifiant la i-ème valeur de la solution\n",
    "        neighbor = one_flip(best_solution, i)\n",
    "\n",
    "        # Évaluation du score du voisin\n",
    "        neighbor_score = evaluate_score(neighbor, clauses)\n",
    "        ##print(\"solution voisin\",neighbor,\"avec un score \",neighbor_score)\n",
    "\n",
    "        # Mise à jour du meilleur score et de la meilleure solution si le voisin a un meilleur score\n",
    "        if neighbor_score < best_score:\n",
    "            best_score = neighbor_score\n",
    "            best_solution = neighbor\n",
    "\n",
    "    # Si le meilleur score est inférieur au score de la solution initiale, renvoi du meilleur voisin trouvé\n",
    "    if best_score < score:\n",
    "        return best_score,best_solution\n",
    "    # Sinon, renvoi de la solution initiale\n",
    "    \n",
    "    else:\n",
    "        return score,solution"
   ]
  },
  {
   "cell_type": "code",
   "execution_count": 13,
   "metadata": {},
   "outputs": [
    {
     "name": "stdout",
     "output_type": "stream",
     "text": [
      "solution courante  [0, 1, 0] avec un score  0\n",
      "solution voisin [1, 1, 0] avec un score  2\n",
      "solution voisin [0, 0, 0] avec un score  1\n",
      "solution voisin [0, 1, 1] avec un score  1\n"
     ]
    },
    {
     "data": {
      "text/plain": [
       "(0, [0, 1, 0])"
      ]
     },
     "execution_count": 13,
     "metadata": {},
     "output_type": "execute_result"
    }
   ],
   "source": [
    "import random\n",
    "# Génération de la solution initiale aléatoire\n",
    "initial_solution = [random.randint(0, 1) for i in range(N)] # 3 est le nombre de variables\n",
    "BB(initial_solution,clauses)"
   ]
  },
  {
   "cell_type": "markdown",
   "metadata": {},
   "source": [
    "# Worst"
   ]
  },
  {
   "cell_type": "markdown",
   "metadata": {},
   "source": [
    "## Algo"
   ]
  },
  {
   "cell_type": "code",
   "execution_count": 14,
   "metadata": {},
   "outputs": [],
   "source": [
    "def WW(solution, clauses):\n",
    "   \n",
    "    # Évaluation du score de la solution initiale\n",
    "    score = evaluate_score(solution, clauses)\n",
    "    temp=0\n",
    "    worst_score = score\n",
    "    worst_solution = solution\n",
    "    ##print(\"solution courante \",solution,\"avec un score \",score)\n",
    "    for i in range(len(solution)):\n",
    "        # Création du voisin en modifiant la i-ème valeur de la solution\n",
    "        neighbor = one_flip(solution, i)\n",
    "        # Évaluation du score du voisin\n",
    "        neighbor_score = evaluate_score(neighbor, clauses)\n",
    "        ##print(\"solution voisin\",neighbor,\"avec un score \",neighbor_score)\n",
    "        if neighbor_score < score:# voisin AMELIORANT\n",
    "            temp=1\n",
    "            if(temp==1):\n",
    "                worst_score = neighbor_score\n",
    "                worst_solution = neighbor\n",
    "            if(worst_score < neighbor_score):\n",
    "                worst_score = neighbor_score\n",
    "                worst_solution = neighbor\n",
    "      \n",
    "            \n",
    "    return(worst_score,worst_solution)"
   ]
  },
  {
   "cell_type": "markdown",
   "metadata": {},
   "source": [
    "## Application  (Un pas)"
   ]
  },
  {
   "cell_type": "code",
   "execution_count": 15,
   "metadata": {},
   "outputs": [
    {
     "name": "stdout",
     "output_type": "stream",
     "text": [
      "solution courante  [1, 1, 0] avec un score  2\n",
      "solution voisin [0, 1, 0] avec un score  0\n",
      "solution voisin [1, 0, 0] avec un score  1\n",
      "solution voisin [1, 1, 1] avec un score  1\n",
      "(1, [1, 1, 1])\n"
     ]
    }
   ],
   "source": [
    "import random\n",
    "# Génération de la solution initiale aléatoire\n",
    "initial_solution = [random.randint(0, 1) for i in range(N)] # 3 est le nombre de variables\n",
    "print(WW(initial_solution,clauses))"
   ]
  },
  {
   "cell_type": "markdown",
   "metadata": {},
   "source": [
    "## Decente"
   ]
  },
  {
   "cell_type": "code",
   "execution_count": 16,
   "metadata": {},
   "outputs": [],
   "source": [
    "def ameliorant(solution,clauses):\n",
    "    score=evaluate_score(solution, clauses)\n",
    "    for i in range(len(solution)):\n",
    "        neighbor= one_flip(solution, i)\n",
    "        neighbor_score = evaluate_score(neighbor, clauses)\n",
    "        if neighbor_score < score:\n",
    "            return True\n",
    "    return False"
   ]
  },
  {
   "cell_type": "code",
   "execution_count": 17,
   "metadata": {},
   "outputs": [],
   "source": [
    "def decente_WW(clauses,initial_solution):\n",
    "    solution=initial_solution\n",
    "    # Boucle de recherche locale\n",
    "    while True:\n",
    "        # Évaluation du score de la solution courante\n",
    "        score,solution = WW(solution, clauses)\n",
    "        # Si le score est nul, la solution est optimale et la boucle est interrompue\n",
    "        if score == 0:\n",
    "            break\n",
    "        #si on a pas d'ameliorant, la boucle est interrompue\n",
    "        if(ameliorant(solution,clauses) == False):\n",
    "            break\n",
    "    # Renvoi de la solution optimale\n",
    "    return score,solution"
   ]
  },
  {
   "cell_type": "markdown",
   "metadata": {},
   "source": [
    "## Application  (decente)"
   ]
  },
  {
   "cell_type": "code",
   "execution_count": 18,
   "metadata": {},
   "outputs": [
    {
     "name": "stdout",
     "output_type": "stream",
     "text": [
      "solution courante  [1, 0, 0] avec un score  1\n",
      "solution voisin [0, 0, 0] avec un score  1\n",
      "solution voisin [1, 1, 0] avec un score  2\n",
      "solution voisin [1, 0, 1] avec un score  0\n",
      "(0, [1, 0, 1])\n"
     ]
    }
   ],
   "source": [
    "import random\n",
    "# Génération de la solution initiale aléatoire\n",
    "initial_solution =  [random.randint(0, 1) for i in range(N)]\n",
    "print (decente_WW(clauses,initial_solution))"
   ]
  },
  {
   "cell_type": "markdown",
   "metadata": {},
   "source": [
    "# Worst Approx"
   ]
  },
  {
   "cell_type": "markdown",
   "metadata": {},
   "source": [
    "## Algo"
   ]
  },
  {
   "cell_type": "code",
   "execution_count": 28,
   "metadata": {},
   "outputs": [],
   "source": [
    "def WW_appro(solution, clauses,k):\n",
    "    L=[] # list qui va contenir worst solution\n",
    "    j=0\n",
    "    # Évaluation du score de la solution initiale\n",
    "    score = evaluate_score(solution, clauses)\n",
    "    # Recherche du voisin qui a le pire score\n",
    "    ##worst_score = score\n",
    "    #worst_solution = solution\n",
    "    ##print(\"solution courante \",solution,\"avec un score \",score)\n",
    "    \n",
    "    for i in range(len(solution)):\n",
    "        # Création du voisin en modifiant la i-ème valeur de la solution\n",
    "        neighbor = one_flip(solution, i)\n",
    "        # Évaluation du score du voisin\n",
    "        neighbor_score = evaluate_score(neighbor, clauses)\n",
    "        ##print(\"solution voisin\",neighbor,\"avec un score \",neighbor_score)\n",
    "\n",
    "        # Mise à jour du pire score et de la pire solution\n",
    "        #si le voisin a un pire score\n",
    "        if neighbor_score < score:\n",
    "            L.append([neighbor,neighbor_score])\n",
    "            j=j+1\n",
    "            if(j==k):\n",
    "                break\n",
    "    # le cas de si on a pas dammeliorant (verifier la liste ou bien j=0)\n",
    "    if(j==0):\n",
    "        return(score,solution)\n",
    "    for i in range(len(L)):\n",
    "        worst_score= L[0][1]\n",
    "        worst_solution= L[0][0]\n",
    "        if(worst_score < L[i][1]):\n",
    "            worst_score = L[i][1]\n",
    "            worst_solution = L[i][0]\n",
    "    return(worst_score,worst_solution)"
   ]
  },
  {
   "cell_type": "code",
   "execution_count": 29,
   "metadata": {},
   "outputs": [
    {
     "name": "stdout",
     "output_type": "stream",
     "text": [
      "solution courante  [1, 0, 1] avec un score  0\n",
      "solution voisin [0, 0, 1] avec un score  2\n",
      "solution voisin [1, 1, 1] avec un score  1\n",
      "solution voisin [1, 0, 0] avec un score  1\n",
      "(0, [1, 0, 1])\n"
     ]
    }
   ],
   "source": [
    "import random\n",
    "# Génération de la solution initiale aléatoire\n",
    "initial_solution = [random.randint(0, 1) for i in range(N)] \n",
    "print(WW_appro(initial_solution,clauses,2))"
   ]
  },
  {
   "cell_type": "code",
   "execution_count": 21,
   "metadata": {},
   "outputs": [],
   "source": [
    "def decente_WW_appro(clauses,initial_solution,k):\n",
    "    solution=initial_solution\n",
    "    # Boucle de recherche locale\n",
    "    while True:\n",
    "        # Évaluation du score de la solution courante\n",
    "        score,solution = WW_appro(solution, clauses,k)\n",
    "        # Si le score est nul, la solution est optimale et la boucle est interrompue\n",
    "        if score == 0:\n",
    "            break\n",
    "        #si on a pas d'ameliorant, la boucle est interrompue\n",
    "        if(ameliorant(solution,clauses) == False):\n",
    "            break\n",
    "    # Renvoi de la solution optimale\n",
    "    return score,solution"
   ]
  },
  {
   "cell_type": "code",
   "execution_count": 22,
   "metadata": {},
   "outputs": [
    {
     "name": "stdout",
     "output_type": "stream",
     "text": [
      "solution courante  [0, 0, 0] avec un score  1\n",
      "solution voisin [1, 0, 0] avec un score  1\n",
      "solution voisin [0, 1, 0] avec un score  0\n",
      "solution voisin [0, 0, 1] avec un score  2\n",
      "(0, [0, 1, 0])\n"
     ]
    }
   ],
   "source": [
    "import random\n",
    "# Génération de la solution initiale aléatoire\n",
    "initial_solution =  [random.randint(0, 1) for i in range(N)]\n",
    "print (decente_WW_appro(clauses,initial_solution,2))"
   ]
  },
  {
   "cell_type": "markdown",
   "metadata": {},
   "source": [
    "# MAX EXP"
   ]
  },
  {
   "cell_type": "markdown",
   "metadata": {},
   "source": [
    "## Algo"
   ]
  },
  {
   "cell_type": "code",
   "execution_count": 23,
   "metadata": {},
   "outputs": [],
   "source": [
    "def MaxExp(solution, clauses):\n",
    "    # Initialisation du score d'expansion (e) à 0\n",
    "    e = 0\n",
    "    L=[]\n",
    "    score=evaluate_score(solution, clauses)\n",
    "    ##print(\"solution courante \",solution,\"avec un score \",score)\n",
    "    # Mise à jour de la solution courante avec le meilleur voisin trouvé\n",
    "    for i in range(len(solution)):\n",
    "        temp=0\n",
    "        en=0\n",
    "        neighbor = one_flip(solution, i)\n",
    "        neighbor_score = evaluate_score(neighbor, clauses)\n",
    "        if neighbor_score < score:\n",
    "            ##print(\"voisin ameliorant\",neighbor,\"de la solution initial\",solution, \"avec un score\",neighbor_score)\n",
    "            e=e+1\n",
    "            for i in range(len(neighbor)):\n",
    "                new_neighbor = one_flip(neighbor, i)\n",
    "                new_neighbor_score = evaluate_score(new_neighbor, clauses)\n",
    "                if new_neighbor_score < neighbor_score:\n",
    "                    temp=1\n",
    "                    ##print(\"nouveau voisin ameliorant\",new_neighbor,\"de precedent voisin\",neighbor,\"avec un score\",new_neighbor_score)\n",
    "                    en=en+1\n",
    "                    \n",
    "        if temp==0:#le voisin n'a pas de voisin ameliorant \n",
    "            L.append([neighbor,neighbor_score,0])#identifier les voisins qui n'ont pas de voisin ameliorant \n",
    "        else:\n",
    "            L.append([neighbor,neighbor_score,en])\n",
    "    elist=[]        \n",
    "    for i in range(len(L)):\n",
    "        elist.append(L[i][-1])\n",
    "        \n",
    "    if all(e == 0 for e in elist):#tout les voinsins ont un score nulle \n",
    "        return(BB(solution, clauses))#meilleur ameliorants     \n",
    "    else:\n",
    "        for i in range(len(elist)):\n",
    "            if(elist[i]== max(elist)):\n",
    "                indice=i\n",
    "        print(L)\n",
    "        return(L[indice][1],L[indice][0])\n",
    "        \n",
    "        "
   ]
  },
  {
   "cell_type": "markdown",
   "metadata": {},
   "source": [
    "## Application  (Un pas)"
   ]
  },
  {
   "cell_type": "code",
   "execution_count": 24,
   "metadata": {},
   "outputs": [
    {
     "name": "stdout",
     "output_type": "stream",
     "text": [
      "solution courante  [1, 1, 0] avec un score  2\n",
      "voisin ameliorant [0, 1, 0] de la solution initial [1, 1, 0] avec un score 0\n",
      "voisin ameliorant [1, 0, 0] de la solution initial [1, 1, 0] avec un score 1\n",
      "nouveau voisin ameliorant [1, 0, 1] de precedent voisin [1, 0, 0] avec un score 0\n",
      "voisin ameliorant [1, 1, 1] de la solution initial [1, 1, 0] avec un score 1\n",
      "nouveau voisin ameliorant [1, 0, 1] de precedent voisin [1, 1, 1] avec un score 0\n",
      "[[[0, 1, 0], 0, 0], [[1, 0, 0], 1, 1], [[1, 1, 1], 1, 1]]\n",
      "(1, [1, 1, 1])\n"
     ]
    }
   ],
   "source": [
    "import random\n",
    "# Génération de la solution initiale aléatoire\n",
    "initial_solution =  [random.randint(0, 1) for i in range(N)]\n",
    "print(MaxExp(initial_solution, clauses))"
   ]
  },
  {
   "cell_type": "markdown",
   "metadata": {},
   "source": [
    "## Decente"
   ]
  },
  {
   "cell_type": "code",
   "execution_count": 25,
   "metadata": {},
   "outputs": [],
   "source": [
    "def ameliorant(solution,clauses):\n",
    "    score=evaluate_score(solution, clauses)\n",
    "    for i in range(len(solution)):\n",
    "        neighbor= one_flip(solution, i)\n",
    "        neighbor_score = evaluate_score(neighbor, clauses)\n",
    "        if neighbor_score < score:\n",
    "            return True\n",
    "    return False"
   ]
  },
  {
   "cell_type": "code",
   "execution_count": 26,
   "metadata": {},
   "outputs": [],
   "source": [
    "def decente_MaxExp(clauses,initial_solution):\n",
    "    solution=initial_solution\n",
    "    # Boucle de recherche locale\n",
    "    while True:\n",
    "        # Évaluation du score de la solution courante\n",
    "        score,solution = MaxExp(solution, clauses)\n",
    "        # Si le score est nul, la solution est optimale et la boucle est interrompue\n",
    "        if score == 0:\n",
    "            break\n",
    "        #si on a pas d'ameliorant, la boucle est interrompue\n",
    "        if(ameliorant(solution,clauses) == False):\n",
    "            break\n",
    "    # Renvoi de la solution optimale\n",
    "    return score,solution"
   ]
  },
  {
   "cell_type": "code",
   "execution_count": 27,
   "metadata": {},
   "outputs": [
    {
     "name": "stdout",
     "output_type": "stream",
     "text": [
      "solution courante  [0, 0, 0] avec un score  1\n",
      "voisin ameliorant [0, 1, 0] de la solution initial [0, 0, 0] avec un score 0\n",
      "solution courante  [0, 0, 0] avec un score  1\n",
      "solution voisin [1, 0, 0] avec un score  1\n",
      "solution voisin [0, 1, 0] avec un score  0\n",
      "solution voisin [0, 1, 1] avec un score  1\n",
      "(0, [0, 1, 0])\n"
     ]
    }
   ],
   "source": [
    "import random\n",
    "# Génération de la solution initiale aléatoire\n",
    "initial_solution =  [random.randint(0, 1) for i in range(N)]\n",
    "print (decente_MaxExp(clauses,initial_solution))"
   ]
  }
 ],
 "metadata": {
  "kernelspec": {
   "display_name": "Python 3",
   "language": "python",
   "name": "python3"
  },
  "language_info": {
   "codemirror_mode": {
    "name": "ipython",
    "version": 3
   },
   "file_extension": ".py",
   "mimetype": "text/x-python",
   "name": "python",
   "nbconvert_exporter": "python",
   "pygments_lexer": "ipython3",
   "version": "3.8.5"
  }
 },
 "nbformat": 4,
 "nbformat_minor": 4
}
